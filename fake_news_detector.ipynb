{
 "cells": [
  {
   "cell_type": "markdown",
   "id": "dbba7ed0-9914-4655-9bd7-7c9ac35b14da",
   "metadata": {},
   "source": [
    "# A Fake News Detector Using TF-IDF in Python"
   ]
  },
  {
   "cell_type": "markdown",
   "id": "80665fae-1a8b-4420-a0a4-3bbfbad68f0a",
   "metadata": {},
   "source": [
    "# Webscraping"
   ]
  },
  {
   "cell_type": "code",
   "execution_count": 1,
   "id": "3f62fe82-d31c-43e9-986c-f146011e7453",
   "metadata": {},
   "outputs": [],
   "source": [
    "# Import libraries\n",
    "import requests\n",
    "from bs4 import BeautifulSoup\n",
    "import pandas as pd\n",
    "import csv\n",
    "import random"
   ]
  },
  {
   "cell_type": "code",
   "execution_count": 2,
   "id": "ed5bfd85-501f-4ce5-843d-c7f14a607b32",
   "metadata": {},
   "outputs": [],
   "source": [
    "# Define a function to list all urls\n",
    "def list_urls(file_name):\n",
    "    # Open the CSV file\n",
    "    with open(file_name, 'r') as csvfile:\n",
    "        # Create a CSV reader object\n",
    "        csvreader = csv.reader(csvfile)\n",
    "        # Convert CSV data into a list\n",
    "        csv_data_list = list(csvreader)\n",
    "        text_list = [' '.join(row) for row in csv_data_list]\n",
    "    return text_list\n",
    "\n",
    "# Apply the list_urls function to csv files \n",
    "fake_news_urls = list_urls('list_of_fake_news.csv')\n",
    "real_news_urls = list_urls('list_of_real_news.csv')"
   ]
  },
  {
   "cell_type": "code",
   "execution_count": 3,
   "id": "e037f0d1-babe-49c0-8f40-086fd0a08fe6",
   "metadata": {
    "scrolled": true
   },
   "outputs": [
    {
     "data": {
      "text/plain": [
       "['\\ufeffurls',\n",
       " 'https://edition.cnn.com/2024/04/19/africa/nigeria-chibok-girl-rescued-intl/index.html',\n",
       " 'https://edition.cnn.com/2024/04/19/middleeast/iraq-explosion-military-base-intl/index.html',\n",
       " 'https://edition.cnn.com/2024/04/19/india/india-russia-ukraine-one-mans-death-intl-hnk-ml/index.html',\n",
       " 'https://edition.cnn.com/2024/04/16/europe/ukraine-missiles-air-defense-zelensky-israel-intl/index.html',\n",
       " 'https://edition.cnn.com/2024/03/16/europe/russia-ukraine-vacuum-bomb-intl/index.html?iid=cnn_buildContentRecirc_end_recirc',\n",
       " 'https://edition.cnn.com/2024/04/21/china/china-spy-agency-public-profile-intl-hnk/index.html',\n",
       " 'https://edition.cnn.com/2024/04/16/politics/us-israel-free-speech-what-matters/index.html',\n",
       " 'https://edition.cnn.com/2024/04/10/politics/lara-trump-rnc-2020-election-fraud-claims/index.html',\n",
       " 'https://edition.cnn.com/2024/04/21/us/oklahoma-double-murder-plot/index.html?iid=cnn_buildContentRecirc_end_recirc',\n",
       " 'https://edition.cnn.com/2024/01/22/us/joliet-chicago-house-killings-suspect-manhunt/index.html?iid=cnn_buildContentRecirc_end_recirc',\n",
       " 'https://edition.cnn.com/2024/04/18/europe/zelensky-assassination-plot-poland-arrest-intl-hnk/index.html?iid=cnn_buildContentRecirc_end_recirc',\n",
       " 'https://edition.cnn.com/2024/04/21/politics/ukraine-aid-mike-johnson-house-speaker-israel-taiwan/index.html',\n",
       " 'https://edition.cnn.com/2024/04/22/asia/india-modi-muslim-hate-speech-allegations-intl-hnk/index.html',\n",
       " 'https://edition.cnn.com/2024/04/19/africa/nigeria-chibok-girl-rescued-intl/index.html',\n",
       " 'https://edition.cnn.com/2024/03/24/africa/nigeria-gunmen-children-released-intl-hnk/index.html',\n",
       " 'https://edition.cnn.com/2024/04/22/middleeast/israeli-military-us-sanctions-west-bank-intl/index.html',\n",
       " 'https://edition.cnn.com/2024/04/22/americas/mexico-arrests-brother-el-mencho-intl-latam/index.html',\n",
       " 'https://edition.cnn.com/2024/02/17/europe/putin-navalny-existential-threat-analysis-intl/index.html',\n",
       " 'https://edition.cnn.com/2024/04/09/business/turkey-restricts-exports-israel-gaza/index.html',\n",
       " 'https://edition.cnn.com/2024/04/15/australia/australia-lehrmann-defamation-verdict-intl-hnk/index.html',\n",
       " 'https://edition.cnn.com/2024/03/29/world/migrants-xenophobia-moscow-attack-intl/index.html',\n",
       " 'https://edition.cnn.com/2024/03/08/world/haiti-gangs-attack-national-palace-intl-hnk/index.html',\n",
       " 'https://edition.cnn.com/2024/02/20/us/colorado-springs-college-shooting-suspect-court/index.html',\n",
       " 'https://edition.cnn.com/2024/02/15/us/school-shooting-threat-arrest-ontario-california/index.html',\n",
       " 'https://edition.cnn.com/2024/02/13/us/joel-osteen-lakewood-church-shooting-tuesday/index.html',\n",
       " 'https://edition.cnn.com/2024/01/23/africa/south-africa-arrest-fire-killed-77-intl/index.html',\n",
       " 'https://edition.cnn.com/2024/04/10/politics/alleged-idaho-isis-sympathizer-not-guilty-plea/index.html',\n",
       " 'https://edition.cnn.com/2024/04/05/entertainment/christian-combs-diddy-sexual-assault-lawsuit/index.html',\n",
       " 'https://edition.cnn.com/2024/03/29/australia/australia-alice-springs-youth-curfew-intl-hnk/index.html',\n",
       " 'https://edition.cnn.com/2024/03/28/europe/france-sue-student-principal-accusation-headscarf-intl/index.html',\n",
       " 'https://edition.cnn.com/2024/03/27/europe/missing-people-russia-moscow-concert-hall-attack-intl/index.html',\n",
       " 'https://edition.cnn.com/2024/03/13/africa/gunmen-demand-ransom-287-children-nigeria-intl/index.html',\n",
       " 'https://edition.cnn.com/2024/03/13/africa/gunmen-demand-ransom-287-children-nigeria-intl/index.html',\n",
       " 'https://edition.cnn.com/2024/04/11/politics/russian-hackers-steal-government-hackers-microsoft/index.html',\n",
       " 'https://edition.cnn.com/2024/03/28/us/chance-comanche-nba-las-vegas-muder-kidnapping/index.html',\n",
       " 'https://edition.cnn.com/2024/03/25/politics/arizona-election-threat-hobbs-sentenced/index.html',\n",
       " 'https://edition.cnn.com/2024/03/14/middleeast/houthi-hostages-philippine-seafarers-gaza-war-intl-hnk/index.html',\n",
       " 'https://edition.cnn.com/2024/02/22/travel/alaska-airlines-passenger-pens-assault-charge/index.html',\n",
       " 'https://edition.cnn.com/2024/02/08/world/boston-murder-suspect-kenya-escape-cec/index.html',\n",
       " 'https://edition.cnn.com/2024/05/14/climate/heat-wave-asia-gaza-climate-intl/index.html',\n",
       " 'https://edition.cnn.com/2024/05/10/europe/zelensky-rud-ukraine-assassination-fired-intl/index.html',\n",
       " 'https://edition.cnn.com/2024/04/29/americas/mexico-ecuador-icj-hearing-raid-intl-latam/index.html',\n",
       " 'https://edition.cnn.com/2024/05/03/americas/canada-sikh-nijjar-assassination-suspects-intl-latam/index.html',\n",
       " 'https://edition.cnn.com/2024/05/15/asia/thailand-lese-majeste-activist-death-netiporn-intl-hnk/index.html',\n",
       " 'https://edition.cnn.com/2024/05/14/us/karen-bass-home-la-mayor-break-in-suspect-drugs/index.html',\n",
       " 'https://edition.cnn.com/2024/05/14/us/tank-dell-shooting-injury-teen-charged/index.html',\n",
       " 'https://edition.cnn.com/2024/05/12/us/win-rozario-nypd-killing/index.html',\n",
       " 'https://edition.cnn.com/2024/05/11/us/lawton-oklahoma-prison-inmates-dead/index.html',\n",
       " 'https://edition.cnn.com/2024/05/11/us/tara-louise-baker-georgia-murder-arrest/index.html',\n",
       " 'https://edition.cnn.com/2024/05/10/us/melody-felicano-johnson-sentencing-arizona/index.html',\n",
       " 'https://edition.cnn.com/2024/05/09/tech/meta-child-safety-investigation-arrests-new-mexico/index.html',\n",
       " 'https://edition.cnn.com/2024/05/09/us/nyc-homeless-men-stabbing-sentencing/index.html',\n",
       " 'https://edition.cnn.com/2024/05/09/americas/mexico-indicts-suspect-surfers-death-intl-latam/index.html',\n",
       " 'https://edition.cnn.com/2024/05/08/us/laken-riley-killing-indictment/index.html',\n",
       " 'https://edition.cnn.com/2024/05/07/us/austin-opioid-overdose-arrests/index.html',\n",
       " 'https://edition.cnn.com/2024/05/05/americas/mexico-murder-bodies-missing-surfers-intl-latam/index.html',\n",
       " 'https://edition.cnn.com/2024/05/01/politics/kristen-clarke-justice-department-domestic-violence/index.html',\n",
       " 'https://edition.cnn.com/2024/04/25/us/georgia-murders-craigslist-car-evidence-cec/index.html',\n",
       " 'https://edition.cnn.com/2024/04/20/us/memphis-shooting-orange-mound-block-party/index.html',\n",
       " 'https://edition.cnn.com/2024/04/16/us/colorado-funeral-home-owners-federal-charges/index.html',\n",
       " 'https://edition.cnn.com/2024/04/09/middleeast/walid-daqqa-palestinian-prisoner-dies-38-years-in-israeli-custody-intl/index.html',\n",
       " 'https://edition.cnn.com/2024/04/10/us/alabama-arrest-explosive-device-attorney-general-office/index.html',\n",
       " 'https://edition.cnn.com/2024/04/10/world/aosta-italy-french-woman-dead-scli-intl/index.html',\n",
       " 'https://edition.cnn.com/2024/05/06/politics/us-soldier-arrested-russia/index.html',\n",
       " 'https://edition.cnn.com/2024/03/28/europe/france-sue-student-principal-accusation-headscarf-intl/index.html',\n",
       " 'https://edition.cnn.com/2024/03/17/us/pennsylvania-shootings-new-jersey-what-we-know/index.html',\n",
       " 'https://edition.cnn.com/2024/03/16/us/shooting-pennsylvania-falls-township/index.html',\n",
       " 'https://edition.cnn.com/2024/03/16/us/connecticut-murder-victim-cold-case-dna/index.html',\n",
       " 'https://edition.cnn.com/2024/03/14/us/burnsville-minnesota-woman-gun-charges-first-responder-deaths/index.html',\n",
       " 'https://edition.cnn.com/2024/05/14/politics/irada-akhoundova-plead-guilty-henry-cuellar/index.html',\n",
       " 'https://edition.cnn.com/2024/05/14/australia/australia-david-mcbride-sentenced-intl-hnk/index.html',\n",
       " 'https://edition.cnn.com/2024/05/13/americas/haiti-mss-unodc-guns-drugs-intl-latam/index.html',\n",
       " 'https://edition.cnn.com/2024/05/09/us/new-york-law-proposal-harvey-weinstein/index.html',\n",
       " 'https://edition.cnn.com/2024/05/07/us/austin-opioid-overdose-arrests/index.html',\n",
       " 'https://edition.cnn.com/2024/05/05/australia/australia-perth-stabbing-attack-armed-teen-shot-dead/index.html',\n",
       " 'https://edition.cnn.com/2024/05/03/americas/world-press-freedom-day-latin-america-latam-intl/index.html',\n",
       " 'https://edition.cnn.com/2024/04/29/us/pro-palestinian-university-protests-arrests-dg/index.html',\n",
       " 'https://edition.cnn.com/2024/04/27/us/warren-harris-jr-new-orleans-parole/index.html',\n",
       " 'https://edition.cnn.com/2024/04/21/politics/supreme-court-debate-cities-punish-homeless/index.html',\n",
       " 'https://edition.cnn.com/2024/04/21/americas/ecuador-referendum-prison-director-killed-intl-latam/index.html']"
      ]
     },
     "execution_count": 3,
     "metadata": {},
     "output_type": "execute_result"
    }
   ],
   "source": [
    "# Check the result => the first element is not a url\n",
    "fake_news_urls"
   ]
  },
  {
   "cell_type": "code",
   "execution_count": 4,
   "id": "76566471-df3b-4570-92d1-58ad3d789dca",
   "metadata": {},
   "outputs": [
    {
     "data": {
      "text/plain": [
       "'\\ufeffurls'"
      ]
     },
     "execution_count": 4,
     "metadata": {},
     "output_type": "execute_result"
    }
   ],
   "source": [
    "# Pop out the first element\n",
    "fake_news_urls.pop(0)\n",
    "real_news_urls.pop(0)"
   ]
  },
  {
   "cell_type": "code",
   "execution_count": 5,
   "id": "78d5021b-f7af-4d1c-91f2-e4cf2d42c92f",
   "metadata": {
    "scrolled": true
   },
   "outputs": [
    {
     "data": {
      "text/plain": [
       "['https://edition.cnn.com/2024/04/19/africa/nigeria-chibok-girl-rescued-intl/index.html',\n",
       " 'https://edition.cnn.com/2024/04/19/middleeast/iraq-explosion-military-base-intl/index.html',\n",
       " 'https://edition.cnn.com/2024/04/19/india/india-russia-ukraine-one-mans-death-intl-hnk-ml/index.html',\n",
       " 'https://edition.cnn.com/2024/04/16/europe/ukraine-missiles-air-defense-zelensky-israel-intl/index.html',\n",
       " 'https://edition.cnn.com/2024/03/16/europe/russia-ukraine-vacuum-bomb-intl/index.html?iid=cnn_buildContentRecirc_end_recirc',\n",
       " 'https://edition.cnn.com/2024/04/21/china/china-spy-agency-public-profile-intl-hnk/index.html',\n",
       " 'https://edition.cnn.com/2024/04/16/politics/us-israel-free-speech-what-matters/index.html',\n",
       " 'https://edition.cnn.com/2024/04/10/politics/lara-trump-rnc-2020-election-fraud-claims/index.html',\n",
       " 'https://edition.cnn.com/2024/04/21/us/oklahoma-double-murder-plot/index.html?iid=cnn_buildContentRecirc_end_recirc',\n",
       " 'https://edition.cnn.com/2024/01/22/us/joliet-chicago-house-killings-suspect-manhunt/index.html?iid=cnn_buildContentRecirc_end_recirc',\n",
       " 'https://edition.cnn.com/2024/04/18/europe/zelensky-assassination-plot-poland-arrest-intl-hnk/index.html?iid=cnn_buildContentRecirc_end_recirc',\n",
       " 'https://edition.cnn.com/2024/04/21/politics/ukraine-aid-mike-johnson-house-speaker-israel-taiwan/index.html',\n",
       " 'https://edition.cnn.com/2024/04/22/asia/india-modi-muslim-hate-speech-allegations-intl-hnk/index.html',\n",
       " 'https://edition.cnn.com/2024/04/19/africa/nigeria-chibok-girl-rescued-intl/index.html',\n",
       " 'https://edition.cnn.com/2024/03/24/africa/nigeria-gunmen-children-released-intl-hnk/index.html',\n",
       " 'https://edition.cnn.com/2024/04/22/middleeast/israeli-military-us-sanctions-west-bank-intl/index.html',\n",
       " 'https://edition.cnn.com/2024/04/22/americas/mexico-arrests-brother-el-mencho-intl-latam/index.html',\n",
       " 'https://edition.cnn.com/2024/02/17/europe/putin-navalny-existential-threat-analysis-intl/index.html',\n",
       " 'https://edition.cnn.com/2024/04/09/business/turkey-restricts-exports-israel-gaza/index.html',\n",
       " 'https://edition.cnn.com/2024/04/15/australia/australia-lehrmann-defamation-verdict-intl-hnk/index.html',\n",
       " 'https://edition.cnn.com/2024/03/29/world/migrants-xenophobia-moscow-attack-intl/index.html',\n",
       " 'https://edition.cnn.com/2024/03/08/world/haiti-gangs-attack-national-palace-intl-hnk/index.html',\n",
       " 'https://edition.cnn.com/2024/02/20/us/colorado-springs-college-shooting-suspect-court/index.html',\n",
       " 'https://edition.cnn.com/2024/02/15/us/school-shooting-threat-arrest-ontario-california/index.html',\n",
       " 'https://edition.cnn.com/2024/02/13/us/joel-osteen-lakewood-church-shooting-tuesday/index.html',\n",
       " 'https://edition.cnn.com/2024/01/23/africa/south-africa-arrest-fire-killed-77-intl/index.html',\n",
       " 'https://edition.cnn.com/2024/04/10/politics/alleged-idaho-isis-sympathizer-not-guilty-plea/index.html',\n",
       " 'https://edition.cnn.com/2024/04/05/entertainment/christian-combs-diddy-sexual-assault-lawsuit/index.html',\n",
       " 'https://edition.cnn.com/2024/03/29/australia/australia-alice-springs-youth-curfew-intl-hnk/index.html',\n",
       " 'https://edition.cnn.com/2024/03/28/europe/france-sue-student-principal-accusation-headscarf-intl/index.html',\n",
       " 'https://edition.cnn.com/2024/03/27/europe/missing-people-russia-moscow-concert-hall-attack-intl/index.html',\n",
       " 'https://edition.cnn.com/2024/03/13/africa/gunmen-demand-ransom-287-children-nigeria-intl/index.html',\n",
       " 'https://edition.cnn.com/2024/03/13/africa/gunmen-demand-ransom-287-children-nigeria-intl/index.html',\n",
       " 'https://edition.cnn.com/2024/04/11/politics/russian-hackers-steal-government-hackers-microsoft/index.html',\n",
       " 'https://edition.cnn.com/2024/03/28/us/chance-comanche-nba-las-vegas-muder-kidnapping/index.html',\n",
       " 'https://edition.cnn.com/2024/03/25/politics/arizona-election-threat-hobbs-sentenced/index.html',\n",
       " 'https://edition.cnn.com/2024/03/14/middleeast/houthi-hostages-philippine-seafarers-gaza-war-intl-hnk/index.html',\n",
       " 'https://edition.cnn.com/2024/02/22/travel/alaska-airlines-passenger-pens-assault-charge/index.html',\n",
       " 'https://edition.cnn.com/2024/02/08/world/boston-murder-suspect-kenya-escape-cec/index.html',\n",
       " 'https://edition.cnn.com/2024/05/14/climate/heat-wave-asia-gaza-climate-intl/index.html',\n",
       " 'https://edition.cnn.com/2024/05/10/europe/zelensky-rud-ukraine-assassination-fired-intl/index.html',\n",
       " 'https://edition.cnn.com/2024/04/29/americas/mexico-ecuador-icj-hearing-raid-intl-latam/index.html',\n",
       " 'https://edition.cnn.com/2024/05/03/americas/canada-sikh-nijjar-assassination-suspects-intl-latam/index.html',\n",
       " 'https://edition.cnn.com/2024/05/15/asia/thailand-lese-majeste-activist-death-netiporn-intl-hnk/index.html',\n",
       " 'https://edition.cnn.com/2024/05/14/us/karen-bass-home-la-mayor-break-in-suspect-drugs/index.html',\n",
       " 'https://edition.cnn.com/2024/05/14/us/tank-dell-shooting-injury-teen-charged/index.html',\n",
       " 'https://edition.cnn.com/2024/05/12/us/win-rozario-nypd-killing/index.html',\n",
       " 'https://edition.cnn.com/2024/05/11/us/lawton-oklahoma-prison-inmates-dead/index.html',\n",
       " 'https://edition.cnn.com/2024/05/11/us/tara-louise-baker-georgia-murder-arrest/index.html',\n",
       " 'https://edition.cnn.com/2024/05/10/us/melody-felicano-johnson-sentencing-arizona/index.html',\n",
       " 'https://edition.cnn.com/2024/05/09/tech/meta-child-safety-investigation-arrests-new-mexico/index.html',\n",
       " 'https://edition.cnn.com/2024/05/09/us/nyc-homeless-men-stabbing-sentencing/index.html',\n",
       " 'https://edition.cnn.com/2024/05/09/americas/mexico-indicts-suspect-surfers-death-intl-latam/index.html',\n",
       " 'https://edition.cnn.com/2024/05/08/us/laken-riley-killing-indictment/index.html',\n",
       " 'https://edition.cnn.com/2024/05/07/us/austin-opioid-overdose-arrests/index.html',\n",
       " 'https://edition.cnn.com/2024/05/05/americas/mexico-murder-bodies-missing-surfers-intl-latam/index.html',\n",
       " 'https://edition.cnn.com/2024/05/01/politics/kristen-clarke-justice-department-domestic-violence/index.html',\n",
       " 'https://edition.cnn.com/2024/04/25/us/georgia-murders-craigslist-car-evidence-cec/index.html',\n",
       " 'https://edition.cnn.com/2024/04/20/us/memphis-shooting-orange-mound-block-party/index.html',\n",
       " 'https://edition.cnn.com/2024/04/16/us/colorado-funeral-home-owners-federal-charges/index.html',\n",
       " 'https://edition.cnn.com/2024/04/09/middleeast/walid-daqqa-palestinian-prisoner-dies-38-years-in-israeli-custody-intl/index.html',\n",
       " 'https://edition.cnn.com/2024/04/10/us/alabama-arrest-explosive-device-attorney-general-office/index.html',\n",
       " 'https://edition.cnn.com/2024/04/10/world/aosta-italy-french-woman-dead-scli-intl/index.html',\n",
       " 'https://edition.cnn.com/2024/05/06/politics/us-soldier-arrested-russia/index.html',\n",
       " 'https://edition.cnn.com/2024/03/28/europe/france-sue-student-principal-accusation-headscarf-intl/index.html',\n",
       " 'https://edition.cnn.com/2024/03/17/us/pennsylvania-shootings-new-jersey-what-we-know/index.html',\n",
       " 'https://edition.cnn.com/2024/03/16/us/shooting-pennsylvania-falls-township/index.html',\n",
       " 'https://edition.cnn.com/2024/03/16/us/connecticut-murder-victim-cold-case-dna/index.html',\n",
       " 'https://edition.cnn.com/2024/03/14/us/burnsville-minnesota-woman-gun-charges-first-responder-deaths/index.html',\n",
       " 'https://edition.cnn.com/2024/05/14/politics/irada-akhoundova-plead-guilty-henry-cuellar/index.html',\n",
       " 'https://edition.cnn.com/2024/05/14/australia/australia-david-mcbride-sentenced-intl-hnk/index.html',\n",
       " 'https://edition.cnn.com/2024/05/13/americas/haiti-mss-unodc-guns-drugs-intl-latam/index.html',\n",
       " 'https://edition.cnn.com/2024/05/09/us/new-york-law-proposal-harvey-weinstein/index.html',\n",
       " 'https://edition.cnn.com/2024/05/07/us/austin-opioid-overdose-arrests/index.html',\n",
       " 'https://edition.cnn.com/2024/05/05/australia/australia-perth-stabbing-attack-armed-teen-shot-dead/index.html',\n",
       " 'https://edition.cnn.com/2024/05/03/americas/world-press-freedom-day-latin-america-latam-intl/index.html',\n",
       " 'https://edition.cnn.com/2024/04/29/us/pro-palestinian-university-protests-arrests-dg/index.html',\n",
       " 'https://edition.cnn.com/2024/04/27/us/warren-harris-jr-new-orleans-parole/index.html',\n",
       " 'https://edition.cnn.com/2024/04/21/politics/supreme-court-debate-cities-punish-homeless/index.html',\n",
       " 'https://edition.cnn.com/2024/04/21/americas/ecuador-referendum-prison-director-killed-intl-latam/index.html']"
      ]
     },
     "execution_count": 5,
     "metadata": {},
     "output_type": "execute_result"
    }
   ],
   "source": [
    "# Check the result again => good!\n",
    "fake_news_urls"
   ]
  },
  {
   "cell_type": "code",
   "execution_count": 6,
   "id": "1b78fed5-9000-46da-9bbb-ed9aba8ab6f9",
   "metadata": {},
   "outputs": [],
   "source": [
    "# Define a function to get the article bodies from the urls (it’ll be used below)\n",
    "def get_article_body(doc):\n",
    "    \n",
    "    selection_class=\"article__content-container\"\n",
    "    articles=doc.find_all('div',{'class':selection_class})\n",
    "    art = None\n",
    "    \n",
    "    for article in articles:\n",
    "        art = article.text.strip()\n",
    "\n",
    "    return art"
   ]
  },
  {
   "cell_type": "code",
   "execution_count": 7,
   "id": "d52e5087-4101-4352-a2e9-1c0f011890f6",
   "metadata": {},
   "outputs": [],
   "source": [
    "# Define a function for web-scraping\n",
    "def all_pages(urls):\n",
    "    header = {'User-Agent': 'Mozilla/5.0 (Windows NT 10.0; Win64; x64) AppleWebKit/537.36 (KHTML, like Gecko) Chrome/58.0.3029.110 Safari/537.3'}\n",
    "# Let's create a dictionary to store data of all raw texts  b\n",
    "    articles_dict={\n",
    "        'raw_text':[]\n",
    "    }\n",
    "    \n",
    "    for url in urls:\n",
    "        try:\n",
    "            response = requests.get(url, headers=header)\n",
    "            response.raise_for_status()  # Raise an exception for bad response codes\n",
    "        except requests.exceptions.RequestException as e:\n",
    "            print(\"Error fetching URL:\", e)\n",
    "            continue  # Move to the next URL\n",
    "        if response.status_code != 200:\n",
    "            break\n",
    "           \n",
    "    # Parse using BeautifulSoup\n",
    "        doc = BeautifulSoup(response.text, 'html.parser')\n",
    "        article_body = get_article_body(doc)\n",
    "        articles_dict['raw_text'].append(article_body)   \n",
    "        \n",
    "    return pd.DataFrame(articles_dict)"
   ]
  },
  {
   "cell_type": "code",
   "execution_count": 8,
   "id": "aa7105bc-c379-4fa0-855b-b2b22450f6c5",
   "metadata": {},
   "outputs": [],
   "source": [
    "#apply the web-scraping function to collected urls\n",
    "fake_news = all_pages(fake_news_urls)\n",
    "real_news = all_pages(real_news_urls)\n",
    "\n",
    "#label fake news as '0' and real news as '1'\n",
    "fake_news['class'] = '0'\n",
    "real_news['class'] = '1'"
   ]
  },
  {
   "cell_type": "code",
   "execution_count": 9,
   "id": "01ff7474-cc2e-4b3f-b8cb-de8c6d78d595",
   "metadata": {
    "scrolled": true
   },
   "outputs": [],
   "source": [
    "# Define a function to delete the rows where 'raw_text' is empty\n",
    "def del_empty(df):\n",
    "    df = df[df['raw_text'].notna()]\n",
    "    return df\n",
    "\n",
    "# Apply the del_empty function to current dataframes\n",
    "fake_news = del_empty(fake_news)\n",
    "real_news = del_empty(real_news)"
   ]
  },
  {
   "cell_type": "code",
   "execution_count": 10,
   "id": "eb37f9ae-5b9c-4743-9937-4cb465b83390",
   "metadata": {
    "scrolled": true
   },
   "outputs": [
    {
     "data": {
      "text/html": [
       "<div>\n",
       "<style scoped>\n",
       "    .dataframe tbody tr th:only-of-type {\n",
       "        vertical-align: middle;\n",
       "    }\n",
       "\n",
       "    .dataframe tbody tr th {\n",
       "        vertical-align: top;\n",
       "    }\n",
       "\n",
       "    .dataframe thead th {\n",
       "        text-align: right;\n",
       "    }\n",
       "</style>\n",
       "<table border=\"1\" class=\"dataframe\">\n",
       "  <thead>\n",
       "    <tr style=\"text-align: right;\">\n",
       "      <th></th>\n",
       "      <th>raw_text</th>\n",
       "      <th>class</th>\n",
       "    </tr>\n",
       "  </thead>\n",
       "  <tbody>\n",
       "    <tr>\n",
       "      <th>0</th>\n",
       "      <td>Lagos, Nigeria\\nCNN\\n         — \\n    \\n\\n\\n  ...</td>\n",
       "      <td>0</td>\n",
       "    </tr>\n",
       "    <tr>\n",
       "      <th>1</th>\n",
       "      <td>CNN\\n         — \\n    \\n\\n\\n            The Ir...</td>\n",
       "      <td>0</td>\n",
       "    </tr>\n",
       "    <tr>\n",
       "      <th>2</th>\n",
       "      <td>New Delhi\\nCNN\\n         — \\n    \\n\\n\\n       ...</td>\n",
       "      <td>0</td>\n",
       "    </tr>\n",
       "    <tr>\n",
       "      <th>3</th>\n",
       "      <td>CNN\\n         — \\n    \\n\\n\\n            A lack...</td>\n",
       "      <td>0</td>\n",
       "    </tr>\n",
       "    <tr>\n",
       "      <th>4</th>\n",
       "      <td>CNN\\n         — \\n    \\n\\n\\n            Russia...</td>\n",
       "      <td>0</td>\n",
       "    </tr>\n",
       "    <tr>\n",
       "      <th>...</th>\n",
       "      <td>...</td>\n",
       "      <td>...</td>\n",
       "    </tr>\n",
       "    <tr>\n",
       "      <th>75</th>\n",
       "      <td>CNN\\n         — \\n    \\n\\n\\n            At lea...</td>\n",
       "      <td>0</td>\n",
       "    </tr>\n",
       "    <tr>\n",
       "      <th>76</th>\n",
       "      <td>CNN\\n         — \\n    \\n\\n\\n            As pro...</td>\n",
       "      <td>0</td>\n",
       "    </tr>\n",
       "    <tr>\n",
       "      <th>77</th>\n",
       "      <td>CNN\\n         — \\n    \\n\\n\\n            Warren...</td>\n",
       "      <td>0</td>\n",
       "    </tr>\n",
       "    <tr>\n",
       "      <th>78</th>\n",
       "      <td>CNN\\n         — \\n    \\n\\n\\n            When H...</td>\n",
       "      <td>0</td>\n",
       "    </tr>\n",
       "    <tr>\n",
       "      <th>79</th>\n",
       "      <td>CNN\\n         — \\n    \\n\\n\\n            The di...</td>\n",
       "      <td>0</td>\n",
       "    </tr>\n",
       "  </tbody>\n",
       "</table>\n",
       "<p>80 rows × 2 columns</p>\n",
       "</div>"
      ],
      "text/plain": [
       "                                             raw_text class\n",
       "0   Lagos, Nigeria\\nCNN\\n         — \\n    \\n\\n\\n  ...     0\n",
       "1   CNN\\n         — \\n    \\n\\n\\n            The Ir...     0\n",
       "2   New Delhi\\nCNN\\n         — \\n    \\n\\n\\n       ...     0\n",
       "3   CNN\\n         — \\n    \\n\\n\\n            A lack...     0\n",
       "4   CNN\\n         — \\n    \\n\\n\\n            Russia...     0\n",
       "..                                                ...   ...\n",
       "75  CNN\\n         — \\n    \\n\\n\\n            At lea...     0\n",
       "76  CNN\\n         — \\n    \\n\\n\\n            As pro...     0\n",
       "77  CNN\\n         — \\n    \\n\\n\\n            Warren...     0\n",
       "78  CNN\\n         — \\n    \\n\\n\\n            When H...     0\n",
       "79  CNN\\n         — \\n    \\n\\n\\n            The di...     0\n",
       "\n",
       "[80 rows x 2 columns]"
      ]
     },
     "execution_count": 10,
     "metadata": {},
     "output_type": "execute_result"
    }
   ],
   "source": [
    "# Check the results\n",
    "fake_news"
   ]
  },
  {
   "cell_type": "code",
   "execution_count": 11,
   "id": "73954f2a-eb6d-46a7-9ad0-4a28fba34188",
   "metadata": {
    "scrolled": true
   },
   "outputs": [
    {
     "data": {
      "text/html": [
       "<div>\n",
       "<style scoped>\n",
       "    .dataframe tbody tr th:only-of-type {\n",
       "        vertical-align: middle;\n",
       "    }\n",
       "\n",
       "    .dataframe tbody tr th {\n",
       "        vertical-align: top;\n",
       "    }\n",
       "\n",
       "    .dataframe thead th {\n",
       "        text-align: right;\n",
       "    }\n",
       "</style>\n",
       "<table border=\"1\" class=\"dataframe\">\n",
       "  <thead>\n",
       "    <tr style=\"text-align: right;\">\n",
       "      <th></th>\n",
       "      <th>raw_text</th>\n",
       "      <th>class</th>\n",
       "    </tr>\n",
       "  </thead>\n",
       "  <tbody>\n",
       "    <tr>\n",
       "      <th>0</th>\n",
       "      <td>CNN\\n         — \\n    \\n\\n\\n            Violen...</td>\n",
       "      <td>1</td>\n",
       "    </tr>\n",
       "    <tr>\n",
       "      <th>1</th>\n",
       "      <td>CNN\\n         — \\n    \\n\\n\\n            Ukrain...</td>\n",
       "      <td>1</td>\n",
       "    </tr>\n",
       "    <tr>\n",
       "      <th>2</th>\n",
       "      <td>CNN\\n         — \\n    \\n\\n\\n            Ukrain...</td>\n",
       "      <td>1</td>\n",
       "    </tr>\n",
       "    <tr>\n",
       "      <th>3</th>\n",
       "      <td>Kyiv, Ukraine\\nCNN\\n         — \\n    \\n\\n\\n   ...</td>\n",
       "      <td>1</td>\n",
       "    </tr>\n",
       "    <tr>\n",
       "      <th>4</th>\n",
       "      <td>CNN\\n         — \\n    \\n\\n\\n            The Za...</td>\n",
       "      <td>1</td>\n",
       "    </tr>\n",
       "    <tr>\n",
       "      <th>...</th>\n",
       "      <td>...</td>\n",
       "      <td>...</td>\n",
       "    </tr>\n",
       "    <tr>\n",
       "      <th>75</th>\n",
       "      <td>CNN\\n         — \\n    \\n\\n\\n            Maryla...</td>\n",
       "      <td>1</td>\n",
       "    </tr>\n",
       "    <tr>\n",
       "      <th>76</th>\n",
       "      <td>CNN\\n         — \\n    \\n\\n\\n            A fede...</td>\n",
       "      <td>1</td>\n",
       "    </tr>\n",
       "    <tr>\n",
       "      <th>77</th>\n",
       "      <td>CNN\\n         — \\n    \\n\\n\\n            Police...</td>\n",
       "      <td>1</td>\n",
       "    </tr>\n",
       "    <tr>\n",
       "      <th>78</th>\n",
       "      <td>CNN\\n         — \\n    \\n\\n\\n            At lea...</td>\n",
       "      <td>1</td>\n",
       "    </tr>\n",
       "    <tr>\n",
       "      <th>79</th>\n",
       "      <td>CNN\\n         — \\n    \\n\\n\\n            Multip...</td>\n",
       "      <td>1</td>\n",
       "    </tr>\n",
       "  </tbody>\n",
       "</table>\n",
       "<p>80 rows × 2 columns</p>\n",
       "</div>"
      ],
      "text/plain": [
       "                                             raw_text class\n",
       "0   CNN\\n         — \\n    \\n\\n\\n            Violen...     1\n",
       "1   CNN\\n         — \\n    \\n\\n\\n            Ukrain...     1\n",
       "2   CNN\\n         — \\n    \\n\\n\\n            Ukrain...     1\n",
       "3   Kyiv, Ukraine\\nCNN\\n         — \\n    \\n\\n\\n   ...     1\n",
       "4   CNN\\n         — \\n    \\n\\n\\n            The Za...     1\n",
       "..                                                ...   ...\n",
       "75  CNN\\n         — \\n    \\n\\n\\n            Maryla...     1\n",
       "76  CNN\\n         — \\n    \\n\\n\\n            A fede...     1\n",
       "77  CNN\\n         — \\n    \\n\\n\\n            Police...     1\n",
       "78  CNN\\n         — \\n    \\n\\n\\n            At lea...     1\n",
       "79  CNN\\n         — \\n    \\n\\n\\n            Multip...     1\n",
       "\n",
       "[80 rows x 2 columns]"
      ]
     },
     "execution_count": 11,
     "metadata": {},
     "output_type": "execute_result"
    }
   ],
   "source": [
    "real_news"
   ]
  },
  {
   "cell_type": "code",
   "execution_count": 12,
   "id": "172e41a2-e206-4d49-a1c1-c3e2b7b23128",
   "metadata": {},
   "outputs": [
    {
     "data": {
      "text/plain": [
       "(160, 2)"
      ]
     },
     "execution_count": 12,
     "metadata": {},
     "output_type": "execute_result"
    }
   ],
   "source": [
    "# Concatenate the dataframes of fake_news and real_news\n",
    "all_news = pd.concat([fake_news, real_news])\n",
    "all_news.shape"
   ]
  },
  {
   "cell_type": "code",
   "execution_count": 13,
   "id": "2fe3befb-d137-4deb-8f79-d7234f749921",
   "metadata": {},
   "outputs": [
    {
     "data": {
      "text/html": [
       "<div>\n",
       "<style scoped>\n",
       "    .dataframe tbody tr th:only-of-type {\n",
       "        vertical-align: middle;\n",
       "    }\n",
       "\n",
       "    .dataframe tbody tr th {\n",
       "        vertical-align: top;\n",
       "    }\n",
       "\n",
       "    .dataframe thead th {\n",
       "        text-align: right;\n",
       "    }\n",
       "</style>\n",
       "<table border=\"1\" class=\"dataframe\">\n",
       "  <thead>\n",
       "    <tr style=\"text-align: right;\">\n",
       "      <th></th>\n",
       "      <th>raw_text</th>\n",
       "      <th>class</th>\n",
       "    </tr>\n",
       "  </thead>\n",
       "  <tbody>\n",
       "    <tr>\n",
       "      <th>0</th>\n",
       "      <td>CNN\\n         — \\n    \\n\\n\\n            A show...</td>\n",
       "      <td>0</td>\n",
       "    </tr>\n",
       "    <tr>\n",
       "      <th>1</th>\n",
       "      <td>CNN\\n         — \\n    \\n\\n\\n            Firefi...</td>\n",
       "      <td>1</td>\n",
       "    </tr>\n",
       "    <tr>\n",
       "      <th>2</th>\n",
       "      <td>CNN\\n         — \\n    \\n\\n\\n            Police...</td>\n",
       "      <td>1</td>\n",
       "    </tr>\n",
       "    <tr>\n",
       "      <th>3</th>\n",
       "      <td>CNN\\n         — \\n    \\n\\n\\n            A 10-y...</td>\n",
       "      <td>1</td>\n",
       "    </tr>\n",
       "    <tr>\n",
       "      <th>4</th>\n",
       "      <td>CNN\\n         — \\n    \\n\\n\\n            Russia...</td>\n",
       "      <td>0</td>\n",
       "    </tr>\n",
       "    <tr>\n",
       "      <th>...</th>\n",
       "      <td>...</td>\n",
       "      <td>...</td>\n",
       "    </tr>\n",
       "    <tr>\n",
       "      <th>155</th>\n",
       "      <td>CNN\\n         — \\n    \\n\\n\\n            One of...</td>\n",
       "      <td>1</td>\n",
       "    </tr>\n",
       "    <tr>\n",
       "      <th>156</th>\n",
       "      <td>CNN\\n         — \\n    \\n\\n\\n            An Ari...</td>\n",
       "      <td>0</td>\n",
       "    </tr>\n",
       "    <tr>\n",
       "      <th>157</th>\n",
       "      <td>CNN\\n         — \\n    \\n\\n\\n            A youn...</td>\n",
       "      <td>0</td>\n",
       "    </tr>\n",
       "    <tr>\n",
       "      <th>158</th>\n",
       "      <td>CNN\\n         — \\n    \\n\\n\\n            Violen...</td>\n",
       "      <td>1</td>\n",
       "    </tr>\n",
       "    <tr>\n",
       "      <th>159</th>\n",
       "      <td>CNN\\n         — \\n    \\n\\n\\n            Nearly...</td>\n",
       "      <td>0</td>\n",
       "    </tr>\n",
       "  </tbody>\n",
       "</table>\n",
       "<p>160 rows × 2 columns</p>\n",
       "</div>"
      ],
      "text/plain": [
       "                                              raw_text class\n",
       "0    CNN\\n         — \\n    \\n\\n\\n            A show...     0\n",
       "1    CNN\\n         — \\n    \\n\\n\\n            Firefi...     1\n",
       "2    CNN\\n         — \\n    \\n\\n\\n            Police...     1\n",
       "3    CNN\\n         — \\n    \\n\\n\\n            A 10-y...     1\n",
       "4    CNN\\n         — \\n    \\n\\n\\n            Russia...     0\n",
       "..                                                 ...   ...\n",
       "155  CNN\\n         — \\n    \\n\\n\\n            One of...     1\n",
       "156  CNN\\n         — \\n    \\n\\n\\n            An Ari...     0\n",
       "157  CNN\\n         — \\n    \\n\\n\\n            A youn...     0\n",
       "158  CNN\\n         — \\n    \\n\\n\\n            Violen...     1\n",
       "159  CNN\\n         — \\n    \\n\\n\\n            Nearly...     0\n",
       "\n",
       "[160 rows x 2 columns]"
      ]
     },
     "execution_count": 13,
     "metadata": {},
     "output_type": "execute_result"
    }
   ],
   "source": [
    "# Shuffle the rows of the DataFrame\n",
    "all_news_shuffled = all_news.sample(frac=1.0)\n",
    "\n",
    "# Reset the index after shuffling\n",
    "all_news_shuffled.reset_index(drop=True, inplace=True)\n",
    "\n",
    "# Print the shuffled DataFrame\n",
    "all_news_shuffled"
   ]
  },
  {
   "cell_type": "code",
   "execution_count": 14,
   "id": "804b6834-1632-457f-8d65-35e7ac5f9e66",
   "metadata": {},
   "outputs": [],
   "source": [
    "# Set train set and test set\n",
    "train_set, test_set = all_news_shuffled[40:], all_news_shuffled[:40]\n",
    "# Reset the index \n",
    "train_set.reset_index(drop=True, inplace=True)\n",
    "test_set.reset_index(drop=True, inplace=True)"
   ]
  },
  {
   "cell_type": "markdown",
   "id": "8a20d7ae-5388-43d0-b3d2-e091d963186f",
   "metadata": {},
   "source": [
    "# Preprocessing data"
   ]
  },
  {
   "cell_type": "code",
   "execution_count": 15,
   "id": "9ead49d7-b4b2-4f7e-92c9-6dc4d720509d",
   "metadata": {},
   "outputs": [
    {
     "data": {
      "text/html": [
       "<div>\n",
       "<style scoped>\n",
       "    .dataframe tbody tr th:only-of-type {\n",
       "        vertical-align: middle;\n",
       "    }\n",
       "\n",
       "    .dataframe tbody tr th {\n",
       "        vertical-align: top;\n",
       "    }\n",
       "\n",
       "    .dataframe thead th {\n",
       "        text-align: right;\n",
       "    }\n",
       "</style>\n",
       "<table border=\"1\" class=\"dataframe\">\n",
       "  <thead>\n",
       "    <tr style=\"text-align: right;\">\n",
       "      <th></th>\n",
       "      <th>raw_text</th>\n",
       "      <th>class</th>\n",
       "    </tr>\n",
       "  </thead>\n",
       "  <tbody>\n",
       "    <tr>\n",
       "      <th>0</th>\n",
       "      <td>CNN\\n         — \\n    \\n\\n\\n            The Se...</td>\n",
       "      <td>1</td>\n",
       "    </tr>\n",
       "    <tr>\n",
       "      <th>1</th>\n",
       "      <td>Rafah\\nCNN\\n         — \\n    \\n\\n\\n           ...</td>\n",
       "      <td>1</td>\n",
       "    </tr>\n",
       "    <tr>\n",
       "      <th>2</th>\n",
       "      <td>CNN\\n         — \\n    \\n\\n\\n            Christ...</td>\n",
       "      <td>0</td>\n",
       "    </tr>\n",
       "    <tr>\n",
       "      <th>3</th>\n",
       "      <td>CNN\\n         — \\n    \\n\\n\\n            Three ...</td>\n",
       "      <td>0</td>\n",
       "    </tr>\n",
       "    <tr>\n",
       "      <th>4</th>\n",
       "      <td>CNN\\n         — \\n    \\n\\n\\n            A mass...</td>\n",
       "      <td>1</td>\n",
       "    </tr>\n",
       "  </tbody>\n",
       "</table>\n",
       "</div>"
      ],
      "text/plain": [
       "                                            raw_text class\n",
       "0  CNN\\n         — \\n    \\n\\n\\n            The Se...     1\n",
       "1  Rafah\\nCNN\\n         — \\n    \\n\\n\\n           ...     1\n",
       "2  CNN\\n         — \\n    \\n\\n\\n            Christ...     0\n",
       "3  CNN\\n         — \\n    \\n\\n\\n            Three ...     0\n",
       "4  CNN\\n         — \\n    \\n\\n\\n            A mass...     1"
      ]
     },
     "execution_count": 15,
     "metadata": {},
     "output_type": "execute_result"
    }
   ],
   "source": [
    "# Show the head of train set\n",
    "train_set.head()"
   ]
  },
  {
   "cell_type": "code",
   "execution_count": 16,
   "id": "1f22db86-9383-4fbd-b63e-30817e535c34",
   "metadata": {},
   "outputs": [],
   "source": [
    "# Assign raw texts and classes to variables\n",
    "train_X_non = train_set['raw_text']\n",
    "train_y = train_set['class']\n",
    "test_X_non = test_set['raw_text']\n",
    "test_y = test_set['class']\n",
    "train_X=[]\n",
    "test_X=[]"
   ]
  },
  {
   "cell_type": "code",
   "execution_count": 17,
   "id": "55dcfb25-c905-4c0f-b8ec-ed240c2d271f",
   "metadata": {
    "scrolled": true
   },
   "outputs": [
    {
     "data": {
      "text/plain": [
       "'CNN\\n        \\xa0—\\xa0\\n    \\n\\n\\n            The Senate passed a foreign aid package Tuesday\\xa0that includes money\\xa0for Ukraine, Israel and the Indo-Pacific region.\\n    \\n\\n            The House passed the aid package, in the form of four separate bills, on Saturday – months after the Senate first passed legislation with aid for Ukraine and Israel.\\n    \\n\\n            The new legislation, which will now go to President Joe Biden’s desk for his signature, also includes a number\\xa0of House GOP priorities, including sanctions on Iran, the seizure of frozen Russian sovereign assets and a measure that could lead to a nationwide ban of TikTok.\\n    \\n\\n            The aid for Ukraine, Israel and the Indo-Pacific region\\xa0adds\\xa0up to about $95 billion – the same amount\\xa0that the earlier\\xa0Senate bill passed in February\\xa0would have provided –\\xa0with an adjustment that $10 billion in Ukraine economic assistance is in the form of a repayable loan\\n    \\n\\n            Here’s what’s included in the\\xa0foreign aid package, according to\\xa0summaries\\xa0provided by House Republicans:\\n    \\n\\n\\n\\n\\n    Nearly $61 billion for Ukraine\\n\\n\\n            The legislation includes\\xa0a total of nearly $61 billion to assist Ukraine and others in the region fight\\xa0Russia – about the same that was included in the\\xa0earlier\\xa0Senate bill.\\n    \\n\\n            Of that total, about $23 billion would be used to replenish US weapons, stockpiles and facilities, and more than $11 billion would fund current US military operations in the region.\\n    \\n\\n            Nearly $14 billion included in the bill would help Ukraine buy advanced weapons systems and other defense equipment.\\n    \\n\\n    More than $26 billion for Israel\\n\\n\\n            The package would provide $26.4 billion to aid Israel, specifying that the funds are to support “its effort to defend itself against Iran and its proxies, and to reimburse US military operations in response to recent attacks,” according to a summary of the legislation.\\n    \\n\\n            The funding includes $4 billion for the Iron Dome and David’s Sling missile defense systems and $1.2 billion for the Iron Beam defense system, which counters short-range rockets and mortar threats.\\n    \\n\\n            It would also provide $4.4 billion to replenish defense items and services provided to Israel and $3.5 billion for the procurement of advanced weapons systems and other items through the Foreign Military Financing Program. Plus, it would provide additional flexibility for transfers of defense items to Israel from US stockpiles held in other countries and would prohibit sending funds to the United Nations Relief and Works Agency, or UNRWA, which supports Palestinian refugees and has\\xa0come under fire after Israel alleged\\xa0some of its staff were involved in Hamas’ October 7 attack.\\n    \\n\\n            Also included is $9.2 billion in humanitarian assistance – including emergency food, shelter and basic services – to populations suffering crises.\\n    \\n\\n            The\\xa0earlier\\xa0Senate bill, by comparison, would\\xa0have\\xa0provided\\xa0$14.1 billion in assistance to Israel, including funds for missile defense systems and foreign military financing to help Israel reestablish territorial security and deterrence, and $9.2 billion in humanitarian aid.\\n    \\n\\n    More than $8 billion for Indo-Pacific security\\n\\n\\n            The package includes $8.1 billion to counter China’s actions in the Indo-Pacific region. It includes $3.3 billion to develop submarine infrastructure, $2 billion in foreign military financing for Taiwan and other key allies, and $1.9 billion to replenish defense items and services provided to Taiwan and regional partners.\\n    \\n\\n            The earlier Senate bill contained very similar provisions to bolster security in the region.\\n    \\n\\n    Potential TikTok ban\\n\\n\\n            One\\xa0hot-button provision of the\\xa0package\\xa0could lead to a possible nationwide ban of TikTok, the popular social media app with links to China.\\n    \\n\\n            An earlier version of the TikTok bill\\xa0sailed through the House\\xa0in March. By including it in the aid package, House Republicans hoped\\xa0to force the Senate to a quick vote on a measure supporters say is necessary to protect Americans’ personal data from the Chinese government. Opponents, including TikTok and a range of civil society groups, argue that the bill risks violating the First Amendment rights of TikTok’s users.\\n    \\n\\n            The legislation passed Tuesday\\xa0sets out a nine-month timeframe for the app’s Chinese parent, ByteDance, to sell the social media company. If it misses the deadline, TikTok would be banned from US app stores. The proposed time limit is longer than the roughly six months considered in\\xa0previous legislation. And it would give the president the option to extend the deadline by another 90 days if he determines there’s been progress toward a sale.\\n    \\n\\n            The changes appear aimed at addressing concerns by some senators that the original six-month deadline may have been too short.\\n    \\n\\n    Iran sanctions, Russian assets\\n\\n\\n            The legislation also contains what House Foreign Affairs Committee Chairman Michael McCaul calls “the most comprehensive sanctions against Iran Congress has passed in years.”\\n    \\n\\n            It would place sanctions on ports and refineries that receive and process Iranian oil and on anyone involved in activity covered under the UN missile embargo on Iran that lapsed last year or in the supply or sale of Iran’s missiles and drones. It would also further restrict the export of goods and technology of US origin to Iran.\\n    \\n\\n            Plus, the legislation would empower the executive branch to seize and transfer frozen Russian assets held in the US to Ukraine to help it fight and rebuild. House Speaker Mike Johnson has said that he was considering the measure – known as the REPO Act – as a way to aid Ukraine.\\n    \\n\\nTop Biden administration officials have also been working with G7 allies – which include Canada, France, Germany, Italy, Japan, the United Kingdom and the European Union – to explore the novel strategy to help Ukraine, which would require congressional approval. The vast majority of Russia’s central bank assets that were frozen by the G7 and the EU are held by the EU, with the US only holding around $5 billion worth, officials told CNN.\\n    \\n\\n            In addition, the package would place mandatory sanctions on Hamas, Palestinian Islamic Jihad and other Palestinian terrorist groups.\\n    \\n\\nThis headline and story have been updated with additional information.\\n\\n\\nCNN’s Lauren Fox, Haley Talbot, Melanie Zanona and Natasha Bertrand contributed to this report.'"
      ]
     },
     "execution_count": 17,
     "metadata": {},
     "output_type": "execute_result"
    }
   ],
   "source": [
    "# Check the texts\n",
    "train_X_non[0]"
   ]
  },
  {
   "cell_type": "code",
   "execution_count": 18,
   "id": "7f41ab17-4726-4545-a7ea-5281d4e4d6dd",
   "metadata": {},
   "outputs": [
    {
     "name": "stdout",
     "output_type": "stream",
     "text": [
      "Collecting nltk\n",
      "  Downloading nltk-3.8.1-py3-none-any.whl.metadata (2.8 kB)\n",
      "Requirement already satisfied: click in /opt/conda/lib/python3.10/site-packages (from nltk) (8.1.7)\n",
      "Collecting joblib (from nltk)\n",
      "  Downloading joblib-1.4.2-py3-none-any.whl.metadata (5.4 kB)\n",
      "Collecting regex>=2021.8.3 (from nltk)\n",
      "  Downloading regex-2024.5.15-cp310-cp310-manylinux_2_17_x86_64.manylinux2014_x86_64.whl.metadata (40 kB)\n",
      "\u001b[2K     \u001b[90m━━━━━━━━━━━━━━━━━━━━━━━━━━━━━━━━━━━━━━━━\u001b[0m \u001b[32m40.9/40.9 kB\u001b[0m \u001b[31m1.5 MB/s\u001b[0m eta \u001b[36m0:00:00\u001b[0m\n",
      "\u001b[?25hRequirement already satisfied: tqdm in /opt/conda/lib/python3.10/site-packages (from nltk) (4.66.2)\n",
      "Downloading nltk-3.8.1-py3-none-any.whl (1.5 MB)\n",
      "\u001b[2K   \u001b[90m━━━━━━━━━━━━━━━━━━━━━━━━━━━━━━━━━━━━━━━━\u001b[0m \u001b[32m1.5/1.5 MB\u001b[0m \u001b[31m14.1 MB/s\u001b[0m eta \u001b[36m0:00:00\u001b[0m:00:01\u001b[0m\n",
      "\u001b[?25hDownloading regex-2024.5.15-cp310-cp310-manylinux_2_17_x86_64.manylinux2014_x86_64.whl (775 kB)\n",
      "\u001b[2K   \u001b[90m━━━━━━━━━━━━━━━━━━━━━━━━━━━━━━━━━━━━━━━━\u001b[0m \u001b[32m775.1/775.1 kB\u001b[0m \u001b[31m10.1 MB/s\u001b[0m eta \u001b[36m0:00:00\u001b[0m00:01\u001b[0m\n",
      "\u001b[?25hDownloading joblib-1.4.2-py3-none-any.whl (301 kB)\n",
      "\u001b[2K   \u001b[90m━━━━━━━━━━━━━━━━━━━━━━━━━━━━━━━━━━━━━━━━\u001b[0m \u001b[32m301.8/301.8 kB\u001b[0m \u001b[31m6.7 MB/s\u001b[0m eta \u001b[36m0:00:00\u001b[0m:00:01\u001b[0m\n",
      "\u001b[?25hInstalling collected packages: regex, joblib, nltk\n",
      "Successfully installed joblib-1.4.2 nltk-3.8.1 regex-2024.5.15\n"
     ]
    }
   ],
   "source": [
    "#Importing libraries\n",
    "!pip install nltk\n",
    "import numpy as np\n",
    "import nltk\n",
    "import re\n",
    "from nltk.stem import WordNetLemmatizer"
   ]
  },
  {
   "cell_type": "code",
   "execution_count": 19,
   "id": "2f56f82c-9392-47d2-a311-8fc4ca569252",
   "metadata": {},
   "outputs": [
    {
     "name": "stderr",
     "output_type": "stream",
     "text": [
      "[nltk_data] Downloading package stopwords to /home/ucloud/nltk_data...\n",
      "[nltk_data]   Unzipping corpora/stopwords.zip.\n",
      "[nltk_data] Downloading package wordnet to /home/ucloud/nltk_data...\n"
     ]
    }
   ],
   "source": [
    "# Stopword removal and lemmatization\n",
    "nltk.download('stopwords')\n",
    "nltk.download('wordnet')\n",
    "stopwords = nltk.corpus.stopwords.words('english')\n",
    "lemmatizer = WordNetLemmatizer()"
   ]
  },
  {
   "cell_type": "code",
   "execution_count": 20,
   "id": "e56d76cf-8347-4111-9c3a-2f632480028f",
   "metadata": {},
   "outputs": [],
   "source": [
    "# Define a function for pre-processing\n",
    "def preprocess_text(text):\n",
    "    text = re.sub(r'[^a-zA-Z]',' ', text)\n",
    "    text = re.sub(r'CNN', ' ', text)\n",
    "    text = re.sub(r'\\n', ' ', text)\n",
    "    text = re.sub(r'\\xa0', ' ', text)\n",
    "    text = re.sub(r'\\s+', ' ', text).strip()\n",
    "    text = text.lower()\n",
    "    text = text.split()\n",
    "    text = [lemmatizer.lemmatize(word) for word in text if not word in set(stopwords)]\n",
    "    text = ' '.join(text)\n",
    "    return text\n",
    "\n",
    "# Text pre-processing for train set and test set\n",
    "train_X = [preprocess_text(text) for text in train_X_non]\n",
    "test_X = [preprocess_text(text) for text in test_X_non]"
   ]
  },
  {
   "cell_type": "code",
   "execution_count": 21,
   "id": "07f71803-58c5-4d6c-8d13-10b5e9b7a579",
   "metadata": {
    "scrolled": true
   },
   "outputs": [
    {
     "data": {
      "text/plain": [
       "'senate passed foreign aid package tuesday includes money ukraine israel indo pacific region house passed aid package form four separate bill saturday month senate first passed legislation aid ukraine israel new legislation go president joe biden desk signature also includes number house gop priority including sanction iran seizure frozen russian sovereign asset measure could lead nationwide ban tiktok aid ukraine israel indo pacific region add billion amount earlier senate bill passed february would provided adjustment billion ukraine economic assistance form repayable loan included foreign aid package according summary provided house republican nearly billion ukraine legislation includes total nearly billion assist ukraine others region fight russia included earlier senate bill total billion would used replenish u weapon stockpile facility billion would fund current u military operation region nearly billion included bill would help ukraine buy advanced weapon system defense equipment billion israel package would provide billion aid israel specifying fund support effort defend iran proxy reimburse u military operation response recent attack according summary legislation funding includes billion iron dome david sling missile defense system billion iron beam defense system counter short range rocket mortar threat would also provide billion replenish defense item service provided israel billion procurement advanced weapon system item foreign military financing program plus would provide additional flexibility transfer defense item israel u stockpile held country would prohibit sending fund united nation relief work agency unrwa support palestinian refugee come fire israel alleged staff involved hamas october attack also included billion humanitarian assistance including emergency food shelter basic service population suffering crisis earlier senate bill comparison would provided billion assistance israel including fund missile defense system foreign military financing help israel reestablish territorial security deterrence billion humanitarian aid billion indo pacific security package includes billion counter china action indo pacific region includes billion develop submarine infrastructure billion foreign military financing taiwan key ally billion replenish defense item service provided taiwan regional partner earlier senate bill contained similar provision bolster security region potential tiktok ban one hot button provision package could lead possible nationwide ban tiktok popular social medium app link china earlier version tiktok bill sailed house march including aid package house republican hoped force senate quick vote measure supporter say necessary protect american personal data chinese government opponent including tiktok range civil society group argue bill risk violating first amendment right tiktok user legislation passed tuesday set nine month timeframe app chinese parent bytedance sell social medium company miss deadline tiktok would banned u app store proposed time limit longer roughly six month considered previous legislation would give president option extend deadline another day determines progress toward sale change appear aimed addressing concern senator original six month deadline may short iran sanction russian asset legislation also contains house foreign affair committee chairman michael mccaul call comprehensive sanction iran congress passed year would place sanction port refinery receive process iranian oil anyone involved activity covered un missile embargo iran lapsed last year supply sale iran missile drone would also restrict export good technology u origin iran plus legislation would empower executive branch seize transfer frozen russian asset held u ukraine help fight rebuild house speaker mike johnson said considering measure known repo act way aid ukraine top biden administration official also working g ally include canada france germany italy japan united kingdom european union explore novel strategy help ukraine would require congressional approval vast majority russia central bank asset frozen g eu held eu u holding around billion worth official told addition package would place mandatory sanction hamas palestinian islamic jihad palestinian terrorist group headline story updated additional information lauren fox haley talbot melanie zanona natasha bertrand contributed report'"
      ]
     },
     "execution_count": 21,
     "metadata": {},
     "output_type": "execute_result"
    }
   ],
   "source": [
    "# Check the texts again\n",
    "train_X[0]"
   ]
  },
  {
   "cell_type": "markdown",
   "id": "60aee123-52c4-4e77-ba4e-bfd04a4d91d0",
   "metadata": {},
   "source": [
    "# Finding features using TF-IDF"
   ]
  },
  {
   "cell_type": "code",
   "execution_count": 22,
   "id": "15bad898-23e3-4f0c-97f9-f78145ce4f7e",
   "metadata": {},
   "outputs": [
    {
     "name": "stdout",
     "output_type": "stream",
     "text": [
      "Collecting scikit-learn\n",
      "  Downloading scikit_learn-1.5.0-cp310-cp310-manylinux_2_17_x86_64.manylinux2014_x86_64.whl.metadata (11 kB)\n",
      "Requirement already satisfied: numpy>=1.19.5 in /opt/conda/lib/python3.10/site-packages (from scikit-learn) (1.26.4)\n",
      "Collecting scipy>=1.6.0 (from scikit-learn)\n",
      "  Downloading scipy-1.13.1-cp310-cp310-manylinux_2_17_x86_64.manylinux2014_x86_64.whl.metadata (60 kB)\n",
      "\u001b[2K     \u001b[90m━━━━━━━━━━━━━━━━━━━━━━━━━━━━━━━━━━━━━━━━\u001b[0m \u001b[32m60.6/60.6 kB\u001b[0m \u001b[31m2.0 MB/s\u001b[0m eta \u001b[36m0:00:00\u001b[0m\n",
      "\u001b[?25hRequirement already satisfied: joblib>=1.2.0 in /opt/conda/lib/python3.10/site-packages (from scikit-learn) (1.4.2)\n",
      "Collecting threadpoolctl>=3.1.0 (from scikit-learn)\n",
      "  Downloading threadpoolctl-3.5.0-py3-none-any.whl.metadata (13 kB)\n",
      "Downloading scikit_learn-1.5.0-cp310-cp310-manylinux_2_17_x86_64.manylinux2014_x86_64.whl (13.3 MB)\n",
      "\u001b[2K   \u001b[90m━━━━━━━━━━━━━━━━━━━━━━━━━━━━━━━━━━━━━━━━\u001b[0m \u001b[32m13.3/13.3 MB\u001b[0m \u001b[31m44.6 MB/s\u001b[0m eta \u001b[36m0:00:00\u001b[0m:00:01\u001b[0m0:01\u001b[0m\n",
      "\u001b[?25hDownloading scipy-1.13.1-cp310-cp310-manylinux_2_17_x86_64.manylinux2014_x86_64.whl (38.6 MB)\n",
      "\u001b[2K   \u001b[90m━━━━━━━━━━━━━━━━━━━━━━━━━━━━━━━━━━━━━━━━\u001b[0m \u001b[32m38.6/38.6 MB\u001b[0m \u001b[31m41.1 MB/s\u001b[0m eta \u001b[36m0:00:00\u001b[0m:00:01\u001b[0m00:01\u001b[0m\n",
      "\u001b[?25hDownloading threadpoolctl-3.5.0-py3-none-any.whl (18 kB)\n",
      "Installing collected packages: threadpoolctl, scipy, scikit-learn\n",
      "Successfully installed scikit-learn-1.5.0 scipy-1.13.1 threadpoolctl-3.5.0\n"
     ]
    }
   ],
   "source": [
    "# import libraries\n",
    "!pip install scikit-learn\n",
    "import sklearn\n",
    "from sklearn.feature_extraction.text import TfidfVectorizer"
   ]
  },
  {
   "cell_type": "code",
   "execution_count": 23,
   "id": "68194b3c-c14c-4faa-b3ec-5ba3f3056f92",
   "metadata": {},
   "outputs": [],
   "source": [
    "# TF-IDF\n",
    "tf_idf = TfidfVectorizer()\n",
    "# Apply TF-IDF to training data\n",
    "X_train_tf = tf_idf.fit_transform(train_X)\n",
    "# Apply TF-IDF to training data\n",
    "X_train_tf = tf_idf.transform(train_X)"
   ]
  },
  {
   "cell_type": "code",
   "execution_count": 24,
   "id": "f68b62de-add9-4b69-8187-dc04edac96ca",
   "metadata": {},
   "outputs": [
    {
     "name": "stdout",
     "output_type": "stream",
     "text": [
      "n_samples: 120, n_features: 8037\n"
     ]
    }
   ],
   "source": [
    "# Check the dimensions of data\n",
    "print(\"n_samples: %d, n_features: %d\" % X_train_tf.shape)"
   ]
  },
  {
   "cell_type": "code",
   "execution_count": 25,
   "id": "613b026c-fa12-4e89-8a3c-ba948bff5478",
   "metadata": {},
   "outputs": [
    {
     "name": "stdout",
     "output_type": "stream",
     "text": [
      "                tfidf\n",
      "billion      0.494049\n",
      "package      0.210755\n",
      "aid          0.194330\n",
      "tiktok       0.184410\n",
      "ukraine      0.181203\n",
      "...               ...\n",
      "finavia      0.000000\n",
      "financial    0.000000\n",
      "finance      0.000000\n",
      "finally      0.000000\n",
      "firecracker  0.000000\n",
      "\n",
      "[8037 rows x 1 columns]\n"
     ]
    }
   ],
   "source": [
    "# show the features of the first article\n",
    "# Get the feature names\n",
    "feature_names = tf_idf.get_feature_names_out()\n",
    "\n",
    "# Get the first document vector\n",
    "first_document_vector = X_train_tf[0]\n",
    "\n",
    "# Create a DataFrame for the first document's TF-IDF values\n",
    "df_tfidf = pd.DataFrame(first_document_vector.T.todense(), index=feature_names, columns=[\"tfidf\"])\n",
    "\n",
    "# Sort the DataFrame by TF-IDF values in descending order\n",
    "df_tfidf_sorted = df_tfidf.sort_values(by=[\"tfidf\"], ascending=False)\n",
    "\n",
    "print(df_tfidf_sorted)"
   ]
  },
  {
   "cell_type": "code",
   "execution_count": 26,
   "id": "53a47b16-0627-46e0-8ba2-60606b2153ad",
   "metadata": {},
   "outputs": [
    {
     "name": "stdout",
     "output_type": "stream",
     "text": [
      "n_samples: 40, n_features: 8037\n"
     ]
    }
   ],
   "source": [
    "# Transforme test data into tf-idf matrix\n",
    "X_test_tf = tf_idf.transform(test_X)\n",
    "\n",
    "# Check the dimensions of data\n",
    "print(\"n_samples: %d, n_features: %d\" % X_test_tf.shape)"
   ]
  },
  {
   "cell_type": "markdown",
   "id": "c0d21d7b-5091-477d-9df5-45f4e9105ec0",
   "metadata": {},
   "source": [
    "# Naive Bayes Classifier"
   ]
  },
  {
   "cell_type": "code",
   "execution_count": 27,
   "id": "f10cd57e-e714-4758-b568-95d1167095b3",
   "metadata": {},
   "outputs": [],
   "source": [
    "#import libraries\n",
    "from sklearn.naive_bayes import MultinomialNB"
   ]
  },
  {
   "cell_type": "code",
   "execution_count": 28,
   "id": "688bb9fd-a78b-4d4e-8af6-ed1cac769fb6",
   "metadata": {},
   "outputs": [
    {
     "data": {
      "text/plain": [
       "array(['0', '1', '1', '1', '1', '1', '1', '1', '0', '1', '1', '0', '1',\n",
       "       '0', '1', '1', '0', '0', '1', '1', '0', '0', '1', '1', '1', '0',\n",
       "       '0', '0', '0', '1', '1', '1', '1', '1', '0', '1', '1', '1', '0',\n",
       "       '1'], dtype='<U1')"
      ]
     },
     "execution_count": 28,
     "metadata": {},
     "output_type": "execute_result"
    }
   ],
   "source": [
    "# Naive bayes classifier\n",
    "naive_bayes_classifier = MultinomialNB()\n",
    "naive_bayes_classifier.fit(X_train_tf, train_y)\n",
    "\n",
    "# Predicted y\n",
    "y_pred = naive_bayes_classifier.predict(X_test_tf)\n",
    "y_pred"
   ]
  },
  {
   "cell_type": "markdown",
   "id": "8577dbcd-9729-4cd9-a923-d4b5894cdfd6",
   "metadata": {},
   "source": [
    "# Results"
   ]
  },
  {
   "cell_type": "code",
   "execution_count": 29,
   "id": "9145cd72-ace1-4027-9658-3c664da34aac",
   "metadata": {},
   "outputs": [],
   "source": [
    "#import library\n",
    "from sklearn import metrics"
   ]
  },
  {
   "cell_type": "code",
   "execution_count": 30,
   "id": "ed4f20ed-c789-4cfe-9ffe-a1d4bb8e2b84",
   "metadata": {},
   "outputs": [
    {
     "name": "stdout",
     "output_type": "stream",
     "text": [
      "Confusion matrix:\n"
     ]
    },
    {
     "data": {
      "text/html": [
       "<div>\n",
       "<style scoped>\n",
       "    .dataframe tbody tr th:only-of-type {\n",
       "        vertical-align: middle;\n",
       "    }\n",
       "\n",
       "    .dataframe tbody tr th {\n",
       "        vertical-align: top;\n",
       "    }\n",
       "\n",
       "    .dataframe thead th {\n",
       "        text-align: right;\n",
       "    }\n",
       "</style>\n",
       "<table border=\"1\" class=\"dataframe\">\n",
       "  <thead>\n",
       "    <tr style=\"text-align: right;\">\n",
       "      <th>Predicted</th>\n",
       "      <th>0</th>\n",
       "      <th>1</th>\n",
       "      <th>All</th>\n",
       "    </tr>\n",
       "    <tr>\n",
       "      <th>Actual</th>\n",
       "      <th></th>\n",
       "      <th></th>\n",
       "      <th></th>\n",
       "    </tr>\n",
       "  </thead>\n",
       "  <tbody>\n",
       "    <tr>\n",
       "      <th>0</th>\n",
       "      <td>11</td>\n",
       "      <td>9</td>\n",
       "      <td>20</td>\n",
       "    </tr>\n",
       "    <tr>\n",
       "      <th>1</th>\n",
       "      <td>3</td>\n",
       "      <td>17</td>\n",
       "      <td>20</td>\n",
       "    </tr>\n",
       "    <tr>\n",
       "      <th>All</th>\n",
       "      <td>14</td>\n",
       "      <td>26</td>\n",
       "      <td>40</td>\n",
       "    </tr>\n",
       "  </tbody>\n",
       "</table>\n",
       "</div>"
      ],
      "text/plain": [
       "Predicted   0   1  All\n",
       "Actual                \n",
       "0          11   9   20\n",
       "1           3  17   20\n",
       "All        14  26   40"
      ]
     },
     "execution_count": 30,
     "metadata": {},
     "output_type": "execute_result"
    }
   ],
   "source": [
    "# Report the confusion matrix\n",
    "print(\"Confusion matrix:\")\n",
    "metrics.confusion_matrix(test_y, y_pred)\n",
    "pd.crosstab(test_y, y_pred, rownames = ['Actual'], colnames =['Predicted'], margins = True)"
   ]
  },
  {
   "cell_type": "code",
   "execution_count": 31,
   "id": "faf5bd3d-7bbd-476a-8c9b-f43caefe84b4",
   "metadata": {},
   "outputs": [
    {
     "name": "stdout",
     "output_type": "stream",
     "text": [
      "              precision    recall  f1-score   support\n",
      "\n",
      "   Fake_news       0.79      0.55      0.65        20\n",
      "   Real_news       0.65      0.85      0.74        20\n",
      "\n",
      "    accuracy                           0.70        40\n",
      "   macro avg       0.72      0.70      0.69        40\n",
      "weighted avg       0.72      0.70      0.69        40\n",
      "\n"
     ]
    }
   ],
   "source": [
    "# Report the results\n",
    "print(metrics.classification_report(test_y, y_pred, target_names=['Fake_news', 'Real_news']))"
   ]
  }
 ],
 "metadata": {
  "kernelspec": {
   "display_name": "Python 3 ",
   "language": "python",
   "name": "python3"
  },
  "language_info": {
   "codemirror_mode": {
    "name": "ipython",
    "version": 3
   },
   "file_extension": ".py",
   "mimetype": "text/x-python",
   "name": "python",
   "nbconvert_exporter": "python",
   "pygments_lexer": "ipython3",
   "version": "3.10.14"
  }
 },
 "nbformat": 4,
 "nbformat_minor": 5
}
